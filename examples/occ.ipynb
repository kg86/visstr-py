{
 "cells": [
  {
   "cell_type": "markdown",
   "id": "655623d1-5326-4ead-ade6-f214ce6e1b39",
   "metadata": {},
   "source": [
    "# occurrences of \"aba\""
   ]
  },
  {
   "cell_type": "code",
   "execution_count": 9,
   "id": "485fc636-7143-4306-802f-62479f4710b2",
   "metadata": {},
   "outputs": [
    {
     "name": "stdout",
     "output_type": "stream",
     "text": [
      "occurrences of \"aba\" in \"abaababaabaab\"\n"
     ]
    },
    {
     "data": {
      "text/html": [
       "\n",
       "    <canvas id=\"9d67ae74-9ad1-4be9-aa3b-ba97845785fe\" style=\"display:none; border: 1px solid #000000; background-color: white\"></canvas>\n",
       "    <img id=\"b090ba9d-3a64-450b-a511-6eb68a9481c1\" style=\"width: 600px\"/>\n",
       "    <script type=\"text/javascript\">\n",
       "    (function (){\n",
       "      const canvas = document.getElementById(\"9d67ae74-9ad1-4be9-aa3b-ba97845785fe\")\n",
       "      const s = \"abaababaabaab\"\n",
       "      const vstr = new visstr.VisStr(canvas, 64)\n",
       "      const range_groups = vstr.makeGroupRangesAutoColor([[[0, 2], [3, 5], [5, 7], [8, 10]]], \"arrow\")\n",
       "      const ranges = range_groups\n",
       "        .map((x) => vstr.nonOverlapRanges(x))\n",
       "        .reduce((acm, x) => acm.concat(x), [])\n",
       "      vstr.draw(s, ranges)\n",
       "      const img = document.getElementById(\"b090ba9d-3a64-450b-a511-6eb68a9481c1\")\n",
       "      img.src = canvas.toDataURL(\"image/png\")\n",
       "\n",
       "    })()\n",
       "    </script>\n",
       "    "
      ],
      "text/plain": [
       "<IPython.core.display.HTML object>"
      ]
     },
     "execution_count": 9,
     "metadata": {},
     "output_type": "execute_result"
    }
   ],
   "source": [
    "from visstr import Str\n",
    "s = 'abaababaabaab'\n",
    "ranges =  [[[0, 2], [3, 5], [5, 7], [8, 10]]]\n",
    "\n",
    "print('occurrences of \"aba\" in \"{}\"'.format(s))\n",
    "Str(s, ranges, font_size=64, width=600)"
   ]
  },
  {
   "cell_type": "markdown",
   "id": "36498c1e-7a0e-4bdf-a2fa-4fae1f8df81d",
   "metadata": {},
   "source": [
    "# short description\n",
    "\n",
    "`Str(s, ranges)`\n",
    "- `s: str`\n",
    "- `ranges: [[line_range or str_range]]`\n",
    "  - `line_range = [beg: int, end: int, step?: int]`: show a line from `beg` to `end` (step is optional).\n",
    "  - `str_range = [beg: int, end: int, strs: [str]`: show strings `str` from `beg` to `end`, where `(end-beg+1==len(strs))`\n",
    "  - Note, if `i != j`, `ranges[i]` and `ranges[j]` are different colors.\n"
   ]
  },
  {
   "cell_type": "markdown",
   "id": "bd5e369d-886b-4b8a-9557-c22f9e8fb470",
   "metadata": {},
   "source": [
    "# border array\n",
    "see chapter 19 border table on the book 125 text algorithms"
   ]
  },
  {
   "cell_type": "code",
   "execution_count": 2,
   "id": "40940190-9125-4108-8be1-2b9355703174",
   "metadata": {},
   "outputs": [
    {
     "name": "stdout",
     "output_type": "stream",
     "text": [
      "border array of \"abaababaaba\"\n"
     ]
    },
    {
     "data": {
      "text/html": [
       "\n",
       "    <canvas id=\"ccfa2f9a-de7f-4b69-b85a-a232b6c0583f\" style=\"display:none; border: 1px solid #000000; background-color: white\"></canvas>\n",
       "    <img id=\"359cd6aa-69e1-4082-a9fd-090107102ab3\" style=\"\"/>\n",
       "    <script type=\"text/javascript\">\n",
       "    (function (){\n",
       "      const canvas = document.getElementById(\"ccfa2f9a-de7f-4b69-b85a-a232b6c0583f\")\n",
       "      const s = \"abaababaaba\"\n",
       "      const vstr = new visstr.VisStr(canvas, 32)\n",
       "      const range_groups = vstr.makeGroupRangesAutoColor([[[-1, 10, [' border ', '0', '0', '1', '1', '2', '3', '2', '3', '4', '5', '6']]], [[0, 0], [2, 2]], [[0, 0], [3, 3]], [[0, 1], [3, 4]], [[0, 2], [3, 5]], [[0, 1], [5, 6]], [[0, 2], [5, 7]], [[0, 3], [5, 8]], [[0, 4], [5, 9]], [[0, 5], [5, 10]]], \"arrow\")\n",
       "      const ranges = range_groups\n",
       "        .map((x) => vstr.nonOverlapRanges(x))\n",
       "        .reduce((acm, x) => acm.concat(x), [])\n",
       "      vstr.draw(s, ranges)\n",
       "      const img = document.getElementById(\"359cd6aa-69e1-4082-a9fd-090107102ab3\")\n",
       "      img.src = canvas.toDataURL(\"image/png\")\n",
       "\n",
       "    })()\n",
       "    </script>\n",
       "    "
      ],
      "text/plain": [
       "<IPython.core.display.HTML object>"
      ]
     },
     "execution_count": 2,
     "metadata": {},
     "output_type": "execute_result"
    }
   ],
   "source": [
    "def borders(x):\n",
    "  '''see chapter 19 border table on the book 125 text algorithms'''\n",
    "  border = [0 for _ in range(len(x)+1)]\n",
    "  border[0] = -1\n",
    "  for i in range(0, len(x)):\n",
    "    l = border[i]\n",
    "    while l >= 0 and x[l] != x[i]:\n",
    "      l = border[l]\n",
    "    border[i+1] = l+1\n",
    "  return border\n",
    "x = 'abaababaaba'\n",
    "border = borders(x)\n",
    "ranges = []\n",
    "for i, b in enumerate(border):\n",
    "  if b > 0:\n",
    "    group = [[0, b-1], [i-b, i-1]]\n",
    "    ranges.append(group)\n",
    "\n",
    "print('border array of \"{}\"'.format(x))\n",
    "\n",
    "Str(x, [[[-1, len(border)-2, [' border ']+list(map(str, border[1:]))]]] + ranges)\n",
    "\n",
    "Str(s, ranges, font_size=64, width=600)"
   ]
  },
  {
   "cell_type": "code",
   "execution_count": null,
   "id": "0fe13838-6162-4d0d-bd30-46176e5491e6",
   "metadata": {},
   "outputs": [],
   "source": []
  }
 ],
 "metadata": {
  "kernelspec": {
   "display_name": "Python 3 (ipykernel)",
   "language": "python",
   "name": "python3"
  },
  "language_info": {
   "codemirror_mode": {
    "name": "ipython",
    "version": 3
   },
   "file_extension": ".py",
   "mimetype": "text/x-python",
   "name": "python",
   "nbconvert_exporter": "python",
   "pygments_lexer": "ipython3",
   "version": "3.7.9"
  }
 },
 "nbformat": 4,
 "nbformat_minor": 5
}
