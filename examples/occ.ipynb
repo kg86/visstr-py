{
 "cells": [
  {
   "cell_type": "markdown",
   "id": "655623d1-5326-4ead-ade6-f214ce6e1b39",
   "metadata": {},
   "source": [
    "# visualization of the occurrences of \"aba\""
   ]
  },
  {
   "cell_type": "code",
   "execution_count": 1,
   "id": "485fc636-7143-4306-802f-62479f4710b2",
   "metadata": {},
   "outputs": [
    {
     "name": "stdout",
     "output_type": "stream",
     "text": [
      "occurrences of \"aba\" in \"abaababaabaab\"\n"
     ]
    },
    {
     "data": {
      "text/html": [
       "\n",
       "    <script type=\"text/javascript\" src=\"/home/asahiru/.local/share/virtualenvs/visstr-py-PT7jvWI2/lib/python3.7/site-packages/visstr/vis_str.umd.js\"></script>\n",
       "    <canvas id=\"visstr_canvas_0\" style=\"border: 1px solid #000000; background-color: white\"></canvas>\n",
       "    <script type=\"text/javascript\">\n",
       "    (function (){\n",
       "      const canvas = document.getElementById(\"visstr_canvas_0\")\n",
       "      const s = \"abaababaabaab\"\n",
       "      const vstr = new visstr.VisStr(canvas)\n",
       "      const range_groups = vstr.makeGroupRangesAutoColor([[[0, 2], [3, 5], [5, 7], [8, 10]]], \"arrow\")\n",
       "      const ranges = range_groups\n",
       "        .map((x) => vstr.nonOverlapRanges(x))\n",
       "        .reduce((acm, x) => acm.concat(x), [])\n",
       "      vstr.draw(s, ranges)\n",
       "    })()\n",
       "    </script>\n",
       "    "
      ],
      "text/plain": [
       "<IPython.core.display.HTML object>"
      ]
     },
     "metadata": {},
     "output_type": "display_data"
    }
   ],
   "source": [
    "import visstr\n",
    "s = 'abaababaabaab'\n",
    "ranges =  [[[0, 2], [3, 5], [5, 7], [8, 10]]]\n",
    "\n",
    "print('occurrences of \"aba\" in \"{}\"'.format(s))\n",
    "display(visstr.visstr(s, ranges))"
   ]
  },
  {
   "cell_type": "markdown",
   "id": "36498c1e-7a0e-4bdf-a2fa-4fae1f8df81d",
   "metadata": {},
   "source": [
    "# short description\n",
    "\n",
    "`visstr(s, ranges)`\n",
    "- `s: str`\n",
    "- `ranges: [[line_range or str_range]]`\n",
    "  - `line_range = [beg: int, end: int, step?: int]`: show a line from `beg` to `end` (step is optional).\n",
    "  - `str_range = [beg: int, end: int, strs: [str]`: show strings `str` from `beg` to `end`, where `(end-beg+1==len(strs))`\n",
    "  - Note, if `i != j`, `ranges[i]` and `ranges[j]` are different colors.\n",
    "```"
   ]
  },
  {
   "cell_type": "markdown",
   "id": "bd5e369d-886b-4b8a-9557-c22f9e8fb470",
   "metadata": {},
   "source": [
    "# visualization of border array\n",
    "see chapter 19 border table on the book 125 text algorithms"
   ]
  },
  {
   "cell_type": "code",
   "execution_count": 2,
   "id": "40940190-9125-4108-8be1-2b9355703174",
   "metadata": {},
   "outputs": [
    {
     "name": "stdout",
     "output_type": "stream",
     "text": [
      "border array of \"abaababaaba\"\n"
     ]
    },
    {
     "data": {
      "text/html": [
       "\n",
       "    <script type=\"text/javascript\" src=\"/home/asahiru/.local/share/virtualenvs/visstr-py-PT7jvWI2/lib/python3.7/site-packages/visstr/vis_str.umd.js\"></script>\n",
       "    <canvas id=\"visstr_canvas_1\" style=\"border: 1px solid #000000; background-color: white\"></canvas>\n",
       "    <script type=\"text/javascript\">\n",
       "    (function (){\n",
       "      const canvas = document.getElementById(\"visstr_canvas_1\")\n",
       "      const s = \"abaababaaba\"\n",
       "      const vstr = new visstr.VisStr(canvas)\n",
       "      const range_groups = vstr.makeGroupRangesAutoColor([[[-1, 10, [' border ', '0', '0', '1', '1', '2', '3', '2', '3', '4', '5', '6']]], [[0, 0], [2, 2]], [[0, 0], [3, 3]], [[0, 1], [3, 4]], [[0, 2], [3, 5]], [[0, 1], [5, 6]], [[0, 2], [5, 7]], [[0, 3], [5, 8]], [[0, 4], [5, 9]], [[0, 5], [5, 10]]], \"arrow\")\n",
       "      const ranges = range_groups\n",
       "        .map((x) => vstr.nonOverlapRanges(x))\n",
       "        .reduce((acm, x) => acm.concat(x), [])\n",
       "      vstr.draw(s, ranges)\n",
       "    })()\n",
       "    </script>\n",
       "    "
      ],
      "text/plain": [
       "<IPython.core.display.HTML object>"
      ]
     },
     "execution_count": 2,
     "metadata": {},
     "output_type": "execute_result"
    }
   ],
   "source": [
    "def borders(x):\n",
    "  '''see chapter 19 border table on the book 125 text algorithms'''\n",
    "  border = [0 for _ in range(len(x)+1)]\n",
    "  border[0] = -1\n",
    "  for i in range(0, len(x)):\n",
    "    l = border[i]\n",
    "    while l >= 0 and x[l] != x[i]:\n",
    "      l = border[l]\n",
    "    border[i+1] = l+1\n",
    "  return border\n",
    "x = 'abaababaaba'\n",
    "border = borders(x)\n",
    "ranges = []\n",
    "for i, b in enumerate(border):\n",
    "  if b > 0:\n",
    "    group = [[0, b-1], [i-b, i-1]]\n",
    "    ranges.append(group)\n",
    "\n",
    "print('border array of \"{}\"'.format(x))\n",
    "visstr.visstr(x, [[[-1, len(border)-2, [' border ']+list(map(str, border[1:]))]]]+ ranges)"
   ]
  }
 ],
 "metadata": {
  "kernelspec": {
   "display_name": "Python 3 (ipykernel)",
   "language": "python",
   "name": "python3"
  },
  "language_info": {
   "codemirror_mode": {
    "name": "ipython",
    "version": 3
   },
   "file_extension": ".py",
   "mimetype": "text/x-python",
   "name": "python",
   "nbconvert_exporter": "python",
   "pygments_lexer": "ipython3",
   "version": "3.7.9"
  }
 },
 "nbformat": 4,
 "nbformat_minor": 5
}
